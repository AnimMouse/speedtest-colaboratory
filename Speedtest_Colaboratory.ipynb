{
  "nbformat": 4,
  "nbformat_minor": 0,
  "metadata": {
    "colab": {
      "name": "Speedtest Colaboratory",
      "provenance": [],
      "authorship_tag": "ABX9TyO0ib4wV+758cVkEKdCGFGx",
      "include_colab_link": true
    },
    "kernelspec": {
      "name": "python3",
      "display_name": "Python 3"
    }
  },
  "cells": [
    {
      "cell_type": "markdown",
      "metadata": {
        "id": "view-in-github",
        "colab_type": "text"
      },
      "source": [
        "<a href=\"https://colab.research.google.com/github/AnimMouse/speedtest-colaboratory/blob/master/Speedtest_Colaboratory.ipynb\" target=\"_parent\"><img src=\"https://colab.research.google.com/assets/colab-badge.svg\" alt=\"Open In Colab\"/></a>"
      ]
    },
    {
      "cell_type": "markdown",
      "metadata": {
        "id": "gtr4V55UNFF4"
      },
      "source": [
        "# Speedtest CLI on Google Colaboratory\r\n",
        "Feel the power of Google's internet.\r\n",
        "Check Google's internet speed on Colaboratory using [Speedtest CLI](https://www.speedtest.net/apps/cli)"
      ]
    },
    {
      "cell_type": "code",
      "metadata": {
        "colab": {
          "base_uri": "https://localhost:8080/"
        },
        "id": "wSCYvU0xKqXV",
        "outputId": "f859130b-59af-48a4-9596-72239cdd05b7"
      },
      "source": [
        "# Taken from https://www.speedtest.net/apps/cli\r\n",
        "!sudo apt-get install gnupg1 apt-transport-https dirmngr\r\n",
        "!export INSTALL_KEY=379CE192D401AB61\r\n",
        "!sudo apt-key adv --keyserver keyserver.ubuntu.com --recv-keys 379CE192D401AB61\r\n",
        "!echo \"deb https://ookla.bintray.com/debian generic main\" | sudo tee  /etc/apt/sources.list.d/speedtest.list\r\n",
        "!sudo apt-get update\r\n",
        "# Other non-official binaries will conflict with Speedtest CLI\r\n",
        "# Example how to remove using apt-get\r\n",
        "# sudo apt-get remove speedtest-cli\r\n",
        "!sudo apt-get install speedtest"
      ],
      "execution_count": null,
      "outputs": [
        {
          "output_type": "stream",
          "text": [
            "Reading package lists... Done\n",
            "Building dependency tree       \n",
            "Reading state information... Done\n",
            "gnupg1 is already the newest version (1.4.22-3ubuntu2).\n",
            "dirmngr is already the newest version (2.2.4-1ubuntu1.3).\n",
            "apt-transport-https is already the newest version (1.6.12ubuntu0.2).\n",
            "0 upgraded, 0 newly installed, 0 to remove and 39 not upgraded.\n",
            "Executing: /tmp/apt-key-gpghome.yVzsdEx70E/gpg.1.sh --keyserver keyserver.ubuntu.com --recv-keys 379CE192D401AB61\n",
            "gpg: key 379CE192D401AB61: public key \"Bintray (by JFrog) <bintray@bintray.com>\" imported\n",
            "gpg: Total number processed: 1\n",
            "gpg:               imported: 1\n",
            "deb https://ookla.bintray.com/debian generic main\n",
            "Ign:1 https://developer.download.nvidia.com/compute/cuda/repos/ubuntu1804/x86_64  InRelease\n",
            "Ign:2 https://developer.download.nvidia.com/compute/machine-learning/repos/ubuntu1804/x86_64  InRelease\n",
            "Hit:3 https://cloud.r-project.org/bin/linux/ubuntu bionic-cran40/ InRelease\n",
            "Hit:4 https://developer.download.nvidia.com/compute/cuda/repos/ubuntu1804/x86_64  Release\n",
            "Hit:5 https://developer.download.nvidia.com/compute/machine-learning/repos/ubuntu1804/x86_64  Release\n",
            "Ign:6 https://ookla.bintray.com/debian generic InRelease\n",
            "Get:7 https://ookla.bintray.com/debian generic Release [4,389 B]\n",
            "Get:8 https://ookla.bintray.com/debian generic Release.gpg [821 B]\n",
            "Hit:10 http://archive.ubuntu.com/ubuntu bionic InRelease\n",
            "Hit:11 http://ppa.launchpad.net/c2d4u.team/c2d4u4.0+/ubuntu bionic InRelease\n",
            "Hit:13 http://security.ubuntu.com/ubuntu bionic-security InRelease\n",
            "Hit:14 http://archive.ubuntu.com/ubuntu bionic-updates InRelease\n",
            "Get:15 https://ookla.bintray.com/debian generic/main amd64 Packages [366 B]\n",
            "Hit:16 http://archive.ubuntu.com/ubuntu bionic-backports InRelease\n",
            "Hit:17 http://ppa.launchpad.net/cran/libgit2/ubuntu bionic InRelease\n",
            "Hit:18 http://ppa.launchpad.net/graphics-drivers/ppa/ubuntu bionic InRelease\n",
            "Fetched 5,576 B in 1s (4,620 B/s)\n",
            "Reading package lists... Done\n",
            "Reading package lists... Done\n",
            "Building dependency tree       \n",
            "Reading state information... Done\n",
            "The following NEW packages will be installed:\n",
            "  speedtest\n",
            "0 upgraded, 1 newly installed, 0 to remove and 39 not upgraded.\n",
            "Need to get 930 kB of archives.\n",
            "After this operation, 2,257 kB of additional disk space will be used.\n",
            "Get:1 https://ookla.bintray.com/debian generic/main amd64 speedtest amd64 1.0.0.2-1.5ae238b [930 kB]\n",
            "Fetched 930 kB in 0s (1,941 kB/s)\n",
            "debconf: unable to initialize frontend: Dialog\n",
            "debconf: (No usable dialog-like program is installed, so the dialog based frontend cannot be used. at /usr/share/perl5/Debconf/FrontEnd/Dialog.pm line 76, <> line 1.)\n",
            "debconf: falling back to frontend: Readline\n",
            "debconf: unable to initialize frontend: Readline\n",
            "debconf: (This frontend requires a controlling tty.)\n",
            "debconf: falling back to frontend: Teletype\n",
            "dpkg-preconfigure: unable to re-open stdin: \n",
            "Selecting previously unselected package speedtest.\n",
            "(Reading database ... 145549 files and directories currently installed.)\n",
            "Preparing to unpack .../speedtest_1.0.0.2-1.5ae238b_amd64.deb ...\n",
            "Unpacking speedtest (1.0.0.2-1.5ae238b) ...\n",
            "Setting up speedtest (1.0.0.2-1.5ae238b) ...\n",
            "Processing triggers for man-db (2.8.3-2ubuntu0.1) ...\n"
          ],
          "name": "stdout"
        }
      ]
    },
    {
      "cell_type": "code",
      "metadata": {
        "colab": {
          "base_uri": "https://localhost:8080/"
        },
        "id": "l_ssPKHRLgaF",
        "outputId": "bf4c7ee0-6ba0-47f5-e9ca-fdb8de58320f"
      },
      "source": [
        "!speedtest"
      ],
      "execution_count": null,
      "outputs": [
        {
          "output_type": "stream",
          "text": [
            "==============================================================================\n",
            "\n",
            "You may only use this Speedtest software and information generated\n",
            "from it for personal, non-commercial use, through a command line\n",
            "interface on a personal computer. Your use of this software is subject\n",
            "to the End User License Agreement, Terms of Use and Privacy Policy at\n",
            "these URLs:\n",
            "\n",
            "\thttps://www.speedtest.net/about/eula\n",
            "\thttps://www.speedtest.net/about/terms\n",
            "\thttps://www.speedtest.net/about/privacy\n",
            "\n",
            "==============================================================================\n",
            "\n",
            "Do you accept the license? [type YES to accept]: YES\n",
            "License acceptance recorded. Continuing.\n",
            "\n",
            "\n",
            "   Speedtest by Ookla\n",
            "\n",
            "     Server: Cox - Las Vegas - Las Vegas, NV (id = 16622)\n",
            "        ISP: Google Cloud\n",
            "    Latency:    12.47 ms   (0.10 ms jitter)\n",
            "   Download:  8361.38 Mbps (data used: 8.1 GB)                               \n",
            "     Upload:   919.19 Mbps (data used: 907.9 MB)                               \n",
            "Packet Loss:     0.0%\n",
            " Result URL: https://www.speedtest.net/result/c/750bfc7d-320b-4dd3-b9ce-6ba076e8caa3\n"
          ],
          "name": "stdout"
        }
      ]
    }
  ]
}